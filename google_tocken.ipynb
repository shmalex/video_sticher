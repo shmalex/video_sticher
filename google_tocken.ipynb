{
 "cells": [
  {
   "cell_type": "code",
   "execution_count": 1,
   "metadata": {
    "ExecuteTime": {
     "end_time": "2022-03-07T20:20:19.536104Z",
     "start_time": "2022-03-07T20:20:19.314127Z"
    }
   },
   "outputs": [],
   "source": [
    "from __future__ import print_function\n",
    "\n",
    "import os.path\n",
    "\n",
    "from google.auth.transport.requests import Request \n",
    "from google.oauth2.credentials import Credentials\n",
    "from google_auth_oauthlib.flow import InstalledAppFlow\n",
    "from googleapiclient.discovery import build\n",
    "from googleapiclient.errors import HttpError\n",
    "from googleapiclient.http import MediaIoBaseDownload\n",
    "\n",
    "\n",
    "import io"
   ]
  },
  {
   "cell_type": "code",
   "execution_count": 2,
   "metadata": {
    "ExecuteTime": {
     "end_time": "2022-03-07T20:20:32.658895Z",
     "start_time": "2022-03-07T20:20:20.743857Z"
    }
   },
   "outputs": [
    {
     "name": "stdout",
     "output_type": "stream",
     "text": [
      "Please visit this URL to authorize this application: https://accounts.google.com/o/oauth2/auth?response_type=code&client_id=555718989229-lqe62v04ajhr48hus0u1s0kloq3aiscn.apps.googleusercontent.com&redirect_uri=http%3A%2F%2Flocalhost%3A8070%2F&scope=https%3A%2F%2Fwww.googleapis.com%2Fauth%2Fdrive.metadata.readonly+https%3A%2F%2Fwww.googleapis.com%2Fauth%2Fdrive.readonly&state=GunGgI3Ij8Uw0r4BvtcCASPZKNI2uL&access_type=offline\n",
      "Files:\n",
      "photo_2022-03-07_15-09-1.jpg (1M1GAoE4Z3QPBb22jm6IuhNUYGIQnd2E7)\n",
      "photo_2022-03-07_15-09.jpg (10GLzSxPivUt93XBXsR_qFlpAQosnerPr)\n",
      "photo_2022-03-07_15-08.jpg (1plNYt52AI3Mrmetd7zfQlkKPE9du-9Jw)\n",
      "photo_2022-03-07_15-07.jpg (1RUnnyTq6YvJls_jxrdF8oA1RK9t1Ilhy)\n",
      "photo_2022-03-07_15-06-1.jpg (147LSLS1ZJUbAws5GMTRCDYAJYhZ2I96x)\n",
      "photo_2022-03-07_15-06.jpg (16R-eQQYrzOQiltOe0iP5fFzFb0kpY7RO)\n",
      "photo_2022-03-07_15-05.jpg (1Ek9vb1lCSDmRP6cqehS-0bIOeS6lZgzx)\n",
      "photo_2022-03-07_15-04.jpg (1ZRLvPclaH0UFlKiR-q5VP1gwgQXmh63r)\n",
      "photo_2022-03-07_15-03-1.jpg (1yf8yB_gf68xE9Y0AtzsEtqak0-skHZ17)\n",
      "photo_2022-03-07_15-03.jpg (1GFCHb4DaNEhP6pcXcsdzC_0ycpFPIUsH)\n"
     ]
    }
   ],
   "source": [
    "# If modifying these scopes, delete the file token.json.\n",
    "SCOPES = ['https://www.googleapis.com/auth/drive.metadata.readonly','https://www.googleapis.com/auth/drive.readonly']\n",
    "\n",
    "\n",
    "def main():\n",
    "    \"\"\"Shows basic usage of the Drive v3 API.\n",
    "    Prints the names and ids of the first 10 files the user has access to.\n",
    "    \"\"\"\n",
    "    creds = None\n",
    "    # The file token.json stores the user's access and refresh tokens, and is\n",
    "    # created automatically when the authorization flow completes for the first\n",
    "    # time.\n",
    "    if os.path.exists('token.json'):\n",
    "        creds = Credentials.from_authorized_user_file('token.json', SCOPES)\n",
    "    # If there are no (valid) credentials available, let the user log in.\n",
    "    if not creds or not creds.valid:\n",
    "        if creds and creds.expired and creds.refresh_token:\n",
    "            creds.refresh(Request())\n",
    "        else:\n",
    "            flow = InstalledAppFlow.from_client_secrets_file(\n",
    "                'credentials_2.json', SCOPES)\n",
    "            creds = flow.run_local_server(host=\"localhost\", port=8070)\n",
    "        # Save the credentials for the next run\n",
    "        with open('token.json', 'w') as token:\n",
    "            token.write(creds.to_json())\n",
    "\n",
    "    try:\n",
    "        service = build('drive', 'v3', credentials=creds)\n",
    "\n",
    "        # Call the Drive v3 API\n",
    "        results = service.files().list(\n",
    "            pageSize=10, fields=\"nextPageToken, files(id, name)\").execute()\n",
    "        items = results.get('files', [])\n",
    "\n",
    "        if not items:\n",
    "            print('No files found.')\n",
    "            return\n",
    "        print('Files:')\n",
    "        for item in items:\n",
    "            print(u'{0} ({1})'.format(item['name'], item['id']))\n",
    "    except HttpError as error:\n",
    "        # TODO(developer) - Handle errors from drive API.\n",
    "        print(f'An error occurred: {error}')\n",
    "\n",
    "\n",
    "if __name__ == '__main__':\n",
    "    main()"
   ]
  },
  {
   "cell_type": "code",
   "execution_count": null,
   "metadata": {
    "ExecuteTime": {
     "start_time": "2022-03-07T20:19:46.387Z"
    }
   },
   "outputs": [],
   "source": [
    "creds = Credentials.from_authorized_user_file('token.json', SCOPES)\n"
   ]
  },
  {
   "cell_type": "code",
   "execution_count": 3,
   "metadata": {
    "ExecuteTime": {
     "end_time": "2022-02-20T22:42:05.822025Z",
     "start_time": "2022-02-20T22:42:05.818502Z"
    }
   },
   "outputs": [],
   "source": [
    "import datetime"
   ]
  },
  {
   "cell_type": "code",
   "execution_count": 33,
   "metadata": {
    "ExecuteTime": {
     "end_time": "2022-02-18T19:24:24.963032Z",
     "start_time": "2022-02-18T19:24:24.955094Z"
    }
   },
   "outputs": [
    {
     "data": {
      "text/plain": [
       "'2022-02-18T19:24:24.958341'"
      ]
     },
     "execution_count": 33,
     "metadata": {},
     "output_type": "execute_result"
    }
   ],
   "source": [
    "datetime.datetime.isoformat(datetime.datetime.utcnow())"
   ]
  },
  {
   "cell_type": "code",
   "execution_count": 35,
   "metadata": {
    "ExecuteTime": {
     "end_time": "2022-02-18T19:25:42.506258Z",
     "start_time": "2022-02-18T19:25:42.500236Z"
    }
   },
   "outputs": [],
   "source": [
    "base_dir = '../2_horiz/orig/'"
   ]
  },
  {
   "cell_type": "code",
   "execution_count": 16,
   "metadata": {
    "ExecuteTime": {
     "end_time": "2022-02-20T22:54:46.523777Z",
     "start_time": "2022-02-20T22:54:46.513709Z"
    }
   },
   "outputs": [],
   "source": [
    "import glob\n",
    "from PIL import Image\n",
    "import tqdm"
   ]
  },
  {
   "cell_type": "code",
   "execution_count": 38,
   "metadata": {
    "ExecuteTime": {
     "end_time": "2022-02-18T19:26:12.420826Z",
     "start_time": "2022-02-18T19:26:12.395463Z"
    }
   },
   "outputs": [],
   "source": [
    "files =glob.glob(base_dir+'*.jpg')"
   ]
  },
  {
   "cell_type": "code",
   "execution_count": 41,
   "metadata": {
    "ExecuteTime": {
     "end_time": "2022-02-18T19:26:51.161559Z",
     "start_time": "2022-02-18T19:26:51.156307Z"
    }
   },
   "outputs": [],
   "source": [
    "def get_date(path):\n",
    "    img = Image.open(path)\n",
    "    return img._getexif()[306]"
   ]
  },
  {
   "cell_type": "code",
   "execution_count": 42,
   "metadata": {
    "ExecuteTime": {
     "end_time": "2022-02-18T19:26:52.541525Z",
     "start_time": "2022-02-18T19:26:52.513972Z"
    }
   },
   "outputs": [],
   "source": [
    "files = list(filter(lambda x: os.path.getsize(x)> 5*10**5, files))\n"
   ]
  },
  {
   "cell_type": "code",
   "execution_count": 48,
   "metadata": {
    "ExecuteTime": {
     "end_time": "2022-02-18T19:28:03.752518Z",
     "start_time": "2022-02-18T19:27:58.291191Z"
    }
   },
   "outputs": [],
   "source": [
    "files = list(sorted(files, key=lambda x: get_date(x)))\n"
   ]
  },
  {
   "cell_type": "code",
   "execution_count": 49,
   "metadata": {
    "ExecuteTime": {
     "end_time": "2022-02-18T19:28:07.729488Z",
     "start_time": "2022-02-18T19:28:07.723239Z"
    }
   },
   "outputs": [
    {
     "data": {
      "text/plain": [
       "('../2_horiz/orig/photo_2022-02-14_12-24.jpg',\n",
       " '../2_horiz/orig/photo_2022-02-17_15-34.jpg')"
      ]
     },
     "execution_count": 49,
     "metadata": {},
     "output_type": "execute_result"
    }
   ],
   "source": [
    "files[0], files[-1]"
   ]
  },
  {
   "cell_type": "code",
   "execution_count": 94,
   "metadata": {
    "ExecuteTime": {
     "end_time": "2022-02-18T19:52:59.682375Z",
     "start_time": "2022-02-18T19:52:59.674839Z"
    }
   },
   "outputs": [],
   "source": [
    "img = Image.open(files[-1])\n",
    "dt = img._getexif()[306]"
   ]
  },
  {
   "cell_type": "code",
   "execution_count": 103,
   "metadata": {
    "ExecuteTime": {
     "end_time": "2022-02-18T20:12:15.545416Z",
     "start_time": "2022-02-18T20:12:15.540797Z"
    }
   },
   "outputs": [],
   "source": [
    "date, time = dt.split(' ')\n",
    "\n",
    "date = date.replace(':','-')\n",
    "\n",
    "dt = date + ' ' + time\n",
    "\n",
    "dt\n",
    "\n",
    "dt=datetime.datetime.fromisoformat(dt)\n",
    "\n",
    "dt\n",
    "\n",
    "search_dt = (dt + (datetime.datetime.utcnow() - datetime.datetime.now())).isoformat()"
   ]
  },
  {
   "cell_type": "code",
   "execution_count": 112,
   "metadata": {
    "ExecuteTime": {
     "end_time": "2022-02-18T20:12:52.491236Z",
     "start_time": "2022-02-18T20:12:52.485363Z"
    }
   },
   "outputs": [
    {
     "data": {
      "text/plain": [
       "'2022-02-17T20:34:25.999996'"
      ]
     },
     "execution_count": 112,
     "metadata": {},
     "output_type": "execute_result"
    }
   ],
   "source": [
    "search_dt"
   ]
  },
  {
   "cell_type": "code",
   "execution_count": 92,
   "metadata": {
    "ExecuteTime": {
     "end_time": "2022-02-18T19:51:24.525171Z",
     "start_time": "2022-02-18T19:49:59.022986Z"
    },
    "scrolled": false
   },
   "outputs": [
    {
     "name": "stdout",
     "output_type": "stream",
     "text": [
      "page_token None\n",
      "Files:\n"
     ]
    },
    {
     "name": "stderr",
     "output_type": "stream",
     "text": [
      "/home/shmalex/.conda/envs/py37/lib/python3.7/site-packages/ipykernel_launcher.py:19: TqdmDeprecationWarning: This function will be removed in tqdm==5.0.0\n",
      "Please use `tqdm.notebook.tqdm` instead of `tqdm.tqdm_notebook`\n"
     ]
    },
    {
     "data": {
      "application/vnd.jupyter.widget-view+json": {
       "model_id": "f469d55e0f3b463aa8c32905096f643c",
       "version_major": 2,
       "version_minor": 0
      },
      "text/plain": [
       "HBox(children=(HTML(value=''), FloatProgress(value=0.0), HTML(value='')))"
      ]
     },
     "metadata": {},
     "output_type": "display_data"
    },
    {
     "name": "stdout",
     "output_type": "stream",
     "text": [
      "2022-02-17T20:35:47.302Z photo_2022-02-17_15-33.jpg (1Oe-A4zkpgk4g5NK6mDewKG2lRTiHp50l)\n",
      "2022-02-17T20:35:51.124Z photo_2022-02-17_15-34.jpg (18PduatpkkzE6Rxkll7uYbL6nblFyFZP1)\n",
      "2022-02-17T20:37:30.616Z photo_2022-02-17_15-35-1.jpg (168C-cqPt6iLy9UmzPI2-fwwiGFDuyjh3)\n",
      "2022-02-17T20:37:34.106Z photo_2022-02-17_15-35.jpg (1gjh_izypQ6N2cfihJL-PGPcC6bAE_lpH)\n",
      "2022-02-17T20:39:02.846Z photo_2022-02-17_15-36.jpg (1Wbc_iCACddvGathSwhGTqnCzoEvjzwwh)\n",
      "2022-02-17T20:39:06.646Z photo_2022-02-17_15-37.jpg (1DkGLDtEeyxG3kadVpE9P4vXuOA7rkcEY)\n",
      "2022-02-17T20:40:28.924Z photo_2022-02-17_15-38-1.jpg (1hdD8I0MbUW8hMg-2iGEBAp-C7ibhAsr_)\n",
      "2022-02-17T20:40:24.767Z photo_2022-02-17_15-38.jpg (19Lf8gHGh-f3ChX5E3tHBSqqXcE-EZ7Xq)\n",
      "2022-02-17T20:41:43.569Z photo_2022-02-17_15-39.jpg (1kA2RDoEYfsCrn-5wv9Bdp3vz-D-rb92j)\n",
      "2022-02-17T20:41:47.334Z photo_2022-02-17_15-40.jpg (1mdtKg6CcaXbBRH8MwnqScbTUx_AIvsGc)\n",
      "2022-02-17T20:43:18.589Z photo_2022-02-17_15-41-1.jpg (1F0zWf-wip-EP6m5SfRF6lz7la9YxCUnm)\n",
      "2022-02-17T20:43:24.355Z photo_2022-02-17_15-41.jpg (1Wh3NCEmI8OQ2Gd7JhdZW1PsePNbF3FmE)\n",
      "2022-02-17T20:44:45.006Z photo_2022-02-17_15-42.jpg (1Aeuh3Ym-gDZuoHA0lTkSf8P5RlD9yjqv)\n",
      "2022-02-17T20:44:49.962Z photo_2022-02-17_15-43.jpg (1Cqy8ILtQJlb_1qn1NVi5Fi1jIX12fldi)\n",
      "2022-02-17T20:46:16.173Z photo_2022-02-17_15-44-1.jpg (1hOD_hsOGHNakesJgd41vE1Xr6uhshtvU)\n",
      "2022-02-17T20:46:20.562Z photo_2022-02-17_15-44.jpg (1__jaf1NiscYUysesPMCdDrZp5WMnnQnk)\n",
      "2022-02-17T20:47:46.909Z photo_2022-02-17_15-45.jpg (1WErdJ2A708JaaicFQGpIKmTUeNUaB-JN)\n",
      "2022-02-17T20:47:52.533Z photo_2022-02-17_15-46.jpg (1Ki80mQRQNphGPh43k7fJeh2DNyLgRnxu)\n",
      "2022-02-17T20:49:19.843Z photo_2022-02-17_15-47-1.jpg (1iGdszD9iWu5XG6T6I8b7iek89F9GdIom)\n",
      "2022-02-17T20:49:29.362Z photo_2022-02-17_15-47.jpg (1I282EZkxJhYdjJMrLuNcx4DsHSjefulL)\n",
      "2022-02-17T20:50:56.400Z photo_2022-02-17_15-48.jpg (1_ZfRUmignO4PAfUXgwzjCIZhHhZmVVHH)\n",
      "2022-02-17T20:50:51.680Z photo_2022-02-17_15-49.jpg (1640dxTIyg4JZFWNqULyyEdT9RpaIie47)\n",
      "2022-02-17T20:52:17.510Z photo_2022-02-17_15-50-1.jpg (1krZt7YAuxSua3xr94DXx-tKhv-GhKrl1)\n",
      "2022-02-17T20:52:13.429Z photo_2022-02-17_15-50.jpg (1vLZeJzIEk26_J2dxD9GAFST0mpD_rG4w)\n",
      "2022-02-17T20:53:41.491Z photo_2022-02-17_15-51.jpg (1d5YPm62o0ujeJfjSveW0GcdScLWn78lJ)\n",
      "2022-02-17T20:53:46.744Z photo_2022-02-17_15-52.jpg (1wfObeMymmSdBoNGKdHEgkVLZ_hzbS_34)\n",
      "2022-02-17T20:55:12.258Z photo_2022-02-17_15-53-1.jpg (1Jz0i5v7CV1C6h35ICBSFeVLYrIHek7AV)\n",
      "2022-02-17T20:55:17.820Z photo_2022-02-17_15-53.jpg (1GKFfj8ajencNni9Yk_CndFBu0roChWOm)\n",
      "2022-02-17T20:56:47.114Z photo_2022-02-17_15-54.jpg (1vzesqGxSv67Eh9m_I1h1FNvg8gsPP4ua)\n",
      "2022-02-17T20:56:51.127Z photo_2022-02-17_15-55.jpg (1HB_t5qcSXMx5IexaHfSXDN5bO3rU3NRL)\n",
      "2022-02-17T20:58:17.892Z photo_2022-02-17_15-56-1.jpg (115zwja5M0Fvvdl3DfnG-Aa6BpIzMaGj8)\n",
      "2022-02-17T20:58:13.801Z photo_2022-02-17_15-56.jpg (189nZPSaGFcQLXslwsfDYHDuyld3zbjdb)\n",
      "2022-02-17T20:59:46.503Z photo_2022-02-17_15-57.jpg (1PigZqFtK_7KN-t8w6INoL69jNqAhG5CF)\n",
      "2022-02-17T20:59:42.760Z photo_2022-02-17_15-58.jpg (1caIo5q0MFeSpWko9koqqfN655IfZ4Y4U)\n",
      "2022-02-17T21:01:12.006Z photo_2022-02-17_15-59-1.jpg (1D3Wr4cNnf9jIZj8riXq1ONCBxYZf4S-f)\n",
      "2022-02-17T21:01:16.219Z photo_2022-02-17_15-59.jpg (1AW4dc5pCV87lc5gFIJF97JJ4YmXEBc_t)\n",
      "2022-02-17T21:02:44.459Z photo_2022-02-17_16-00.jpg (1CNPtJjyp01ZmOCDj2pLH3t83psNajCAL)\n",
      "2022-02-17T21:02:48.478Z photo_2022-02-17_16-01.jpg (1gLwTGLVMCT8kNASBBN3lPsy8SPBZqAkw)\n",
      "2022-02-17T21:04:13.305Z photo_2022-02-17_16-02-1.jpg (1NrXEKss8Jl8jKHvOVB6vpwk5Sp9GCPZU)\n",
      "2022-02-17T21:04:17.221Z photo_2022-02-17_16-02.jpg (1FmMf6lCLtKdYhuyt4GOULsn9wpTO9YEb)\n",
      "2022-02-17T21:05:43.556Z photo_2022-02-17_16-03.jpg (1IALOLux9eINNMoV_Edhn7X-vNg5nNs9H)\n",
      "2022-02-17T21:05:47.953Z photo_2022-02-17_16-04.jpg (1dHbWj6xr3FMHW2UWtR_8dN7gTq5DCUC2)\n",
      "2022-02-17T21:07:13.740Z photo_2022-02-17_16-05-1.jpg (19lbrAih1mAs7Q8qW5JXDCjugeIIKEJAh)\n",
      "2022-02-17T21:07:18.125Z photo_2022-02-17_16-05.jpg (1n4u1Xv8f1jEWzKjr7AL8SGgkJXinyjts)\n",
      "2022-02-17T21:08:43.209Z photo_2022-02-17_16-06.jpg (1-ngfanUL_hzQNOg6M9uf5uBvxwWX0SDP)\n",
      "2022-02-17T21:08:47.542Z photo_2022-02-17_16-07.jpg (1G7YLKG3vjS774cds4CfFzQ-CTD3lF8Bd)\n",
      "2022-02-17T21:10:19.067Z photo_2022-02-17_16-08-1.jpg (1FPbQS3i61Ft_reBSpTHkZNe9h6FdDNff)\n",
      "2022-02-17T21:10:14.999Z photo_2022-02-17_16-08.jpg (12_5wnHCxcOHOXcDn5WCasniSd24W4oWv)\n",
      "2022-02-17T21:11:39.818Z photo_2022-02-17_16-09.jpg (1u3qvCwQAc8AGWVvA_3gC_twP5npLHgvR)\n",
      "2022-02-17T21:11:46.130Z photo_2022-02-17_16-10.jpg (1cl59etrRL6GJMqDyHEmdSvCVYgrHPZ6a)\n",
      "2022-02-17T21:13:13.759Z photo_2022-02-17_16-11-1.jpg (1MSBx--xgin7NuTCRLg5QI5E9K-AI3Af_)\n",
      "2022-02-17T21:13:18.289Z photo_2022-02-17_16-11.jpg (1MtWxDhstkZ-xWCSjfLDS96nY6mtPVbZW)\n",
      "2022-02-17T21:14:45.780Z photo_2022-02-17_16-12.jpg (1D4qsfnNrMo6T4z0QtuW4emZYRl0vMC4O)\n",
      "2022-02-17T21:14:50.536Z photo_2022-02-17_16-13.jpg (1fCm2edbV7_IdWzxQoTg5OOj8wPAYslP2)\n",
      "2022-02-17T21:16:15.942Z photo_2022-02-17_16-14-1.jpg (1BHC8pqH6CCcpdL7RTpfsKE6zeXCWMhaq)\n",
      "2022-02-17T21:16:19.931Z photo_2022-02-17_16-14.jpg (1gpYrvj7yoIMjokFLrzV64OKy03GC-R23)\n",
      "2022-02-17T21:17:43.036Z photo_2022-02-17_16-15.jpg (1oBSaAg6FfF51HBnBpMkRfgjUSfMJ4Tve)\n",
      "2022-02-17T21:17:47.147Z photo_2022-02-17_16-16.jpg (1A7SCq_7cIZRlu4kli4jgplSSkcPhqgSF)\n",
      "2022-02-17T21:19:17.902Z photo_2022-02-17_16-17-1.jpg (1LiQDQ0kGSBM6ho4meHYMqG9ENo7neWSs)\n",
      "2022-02-17T21:19:22.074Z photo_2022-02-17_16-17.jpg (1K9PoCWvadAqZgId5VuGIlJ16_MQiVICv)\n",
      "2022-02-17T21:20:53.948Z photo_2022-02-17_16-18.jpg (1SNSABTx94Ebicn4HSzOX34_yjbD30UtT)\n",
      "2022-02-17T21:20:48.864Z photo_2022-02-17_16-19.jpg (1koruAb10NTUJSE-vDqBgk06UsiIugImz)\n",
      "2022-02-17T21:22:13.612Z photo_2022-02-17_16-20-1.jpg (1YWR-pTipCqemDNauwvlfNtd9PT6NXth1)\n",
      "2022-02-17T21:22:17.542Z photo_2022-02-17_16-20.jpg (1hJImY047TNt0rxvWOb1mYBoiDGRU7rgn)\n",
      "2022-02-17T21:23:42.988Z photo_2022-02-17_16-21.jpg (1AE0AERO4n7sCOSEzfQDu_yxH76_YSbKM)\n",
      "2022-02-17T21:23:46.763Z photo_2022-02-17_16-22.jpg (1PQ06gE85rIlYKLKyccM6MZNKESISeDZP)\n",
      "2022-02-17T21:25:18.048Z photo_2022-02-17_16-23-1.jpg (14qcIAuZqXTzsNjN1CtDeEj1yf53K1-HJ)\n",
      "2022-02-17T21:25:14.133Z photo_2022-02-17_16-23.jpg (1LFRHwdGQiQm295e6T24ZfFBPaj24dXbk)\n",
      "2022-02-17T21:26:46.554Z photo_2022-02-17_16-24.jpg (1fapSUjHcTlkyWnTpXOtqXmbalofere3-)\n",
      "2022-02-17T21:26:42.915Z photo_2022-02-17_16-25.jpg (1e-7jU9LiIb60w_MaOTx75kSDpmcgIjdT)\n",
      "2022-02-17T21:28:28.431Z photo_2022-02-17_16-26-1.jpg (1Vc9GPVRn_9TvLtrIq20KX-bimd07_j-7)\n",
      "2022-02-17T21:28:23.211Z photo_2022-02-17_16-26.jpg (1ObedIvpZpWNaK71UZPtmRNGVsEdGuy34)\n",
      "2022-02-17T21:29:42.614Z photo_2022-02-17_16-27.jpg (1HMlF9gOAZiw05pPx1QoDueAkFpXsYL5c)\n",
      "2022-02-17T21:29:46.182Z photo_2022-02-17_16-28.jpg (1XcOiLhCMl4Bfdh_h6KPtV81RuOQo2W6S)\n",
      "2022-02-17T21:31:17.064Z photo_2022-02-17_16-29-1.jpg (1BEIbmqD10bVHQVRHYzTbilWu7avcp0E4)\n",
      "2022-02-17T21:31:13.069Z photo_2022-02-17_16-29.jpg (1usCvSB_1hIfit4YeHNSmOrJb8NiyrIVU)\n",
      "2022-02-17T21:32:45.265Z photo_2022-02-17_16-30.jpg (1qmRGOSoY_iSBIWJkZeJe0zvLOdLxgi8p)\n",
      "2022-02-17T21:32:40.939Z photo_2022-02-17_16-31.jpg (1vJy-xppgRU70eRS7OmjhlxlqUQt4rScH)\n",
      "2022-02-17T21:34:15.115Z photo_2022-02-17_16-32-1.jpg (1gBWsSVpKI8VFan1iSKRyqmFQCUDRgf4Y)\n",
      "2022-02-17T21:34:19.478Z photo_2022-02-17_16-32.jpg (1IeqoIq-wwjOqgkXenVYiWQNjwCjgTOld)\n",
      "2022-02-17T21:35:53.442Z photo_2022-02-17_16-33.jpg (1TbmveL5075mlJBS8b2pc76GW8KRq5abx)\n",
      "2022-02-17T21:35:49.519Z photo_2022-02-17_16-34.jpg (1h2c8cJUP1oZgfkCkHAkrPQ5dcxItBC2-)\n",
      "2022-02-17T21:37:21.254Z photo_2022-02-17_16-35-1.jpg (1WJ1tHA7sICvGuNLonRkc7_ABNmr6xsCb)\n",
      "2022-02-17T21:37:14.470Z photo_2022-02-17_16-35.jpg (1zGgEwVbHFr-LTtzc2mHCJ9LurJbYMCJA)\n",
      "2022-02-17T21:38:49.037Z photo_2022-02-17_16-36.jpg (1bejeCz0b5RcRRBqSFWKgHJKovUolBxZM)\n",
      "2022-02-17T21:38:45.212Z photo_2022-02-17_16-37.jpg (1DbrPG2u_j6es5dlhqL5iAJ28ejkfNCZA)\n",
      "2022-02-17T21:40:16.722Z photo_2022-02-17_16-38-1.jpg (1eACPKMwoVmbwmHU1wK72Lkzomoh3oZBv)\n",
      "2022-02-17T21:40:20.319Z photo_2022-02-17_16-38.jpg (163t33iSlehN1Y-_lJCJG9rJvqCggOtYT)\n",
      "2022-02-17T21:41:45.716Z photo_2022-02-17_16-39.jpg (1lVdqr7P4bVAicu0E15i3oKVMMscSK5Jf)\n",
      "2022-02-17T21:41:49.446Z photo_2022-02-17_16-40.jpg (1x0QYFm4A3xP0wFSjAOWU2R7uwHM5UpPS)\n",
      "2022-02-17T21:43:17.353Z photo_2022-02-17_16-41-1.jpg (1WTfCaVPtTBLWohZAdSh6i-d1AQ04vCIo)\n",
      "2022-02-17T21:43:21.238Z photo_2022-02-17_16-41.jpg (1IZNQ_oadrPv1ToJ05KlmDmLQJbRl59UV)\n",
      "2022-02-17T21:44:45.858Z photo_2022-02-17_16-42.jpg (10sZzLn41NSMELpc6m8Rthf8x5VwG46c8)\n"
     ]
    },
    {
     "name": "stdout",
     "output_type": "stream",
     "text": [
      "2022-02-17T21:44:49.706Z photo_2022-02-17_16-43.jpg (1cvWJwVZNa-oWiAI1xVjeIMrmsh5HhzHy)\n",
      "2022-02-17T21:46:19.471Z photo_2022-02-17_16-44-1.jpg (1xLxe5gK-K_BCDjsl_Iqx1a7y5PjEn3WZ)\n",
      "2022-02-17T21:46:23.951Z photo_2022-02-17_16-44.jpg (19OdmoYvyi7JWsSq9dR7CL06KGETnqQwr)\n",
      "2022-02-17T21:47:46.480Z photo_2022-02-17_16-45.jpg (1Zwyn0EzrBIHeQ04bSnLP2d_I-v_1m9gZ)\n",
      "2022-02-17T21:47:50.638Z photo_2022-02-17_16-46.jpg (156StBqz8kTD2uB76C5CNa9HE0WMbrIu0)\n",
      "2022-02-17T21:49:19.554Z photo_2022-02-17_16-47.jpg (1qFsYNh1YiCK2U583qnDozfaxshMFLlLS)\n",
      "2022-02-17T21:50:46.767Z photo_2022-02-17_16-48-1.jpg (1vmlSgueKMe3OruEx7ju9MNPJn-G1DzQh)\n",
      "\n",
      "page_token ~!!~AI9FV7QoPi66XBGTEv_xydN5XKnrqWnqiq22kktbNguVpHj6KorCse555k9Osw5R-pD7u6BWVGPQlm14XMefxKHk-bEZCUz3ZZVcgOnBFtZXycNblLrmlJcmQtaEjLr_V5Xhyvb_0ly_gEG6oQoblxV3xlYpnbh1QmHdxqkUgut3kr2W-70hbAzvtkdnaFFjiqfxB4BSnVVZ2oIg4ui-rs8XmGZ64IjjT74-vxWfw2aQB2BEQm0059xBnLxWipfUVEOl74Rn370VHLcnCMiXlPvGpFwqpxae80fHP0IddYJofd1uY6EPv3WQtQLOyk_8Z54AIdFVXvZVmGNClC-w0NpqnttF1Kmjqbtz6n97wQ3kBBA8JoqVl9Z6Eq5MmpXchqEuGaeT74s-lJT73xFZKg0FVT_d-EfHFw==\n",
      "Files:\n"
     ]
    },
    {
     "data": {
      "application/vnd.jupyter.widget-view+json": {
       "model_id": "8fddfce1345944b28a295d4e0248c086",
       "version_major": 2,
       "version_minor": 0
      },
      "text/plain": [
       "HBox(children=(HTML(value=''), FloatProgress(value=0.0), HTML(value='')))"
      ]
     },
     "metadata": {},
     "output_type": "display_data"
    },
    {
     "name": "stdout",
     "output_type": "stream",
     "text": [
      "2022-02-17T21:49:15.184Z photo_2022-02-17_16-48.jpg (1Q2XwffLpYS95VM5jdFtkwAt8zgFEcGwL)\n",
      "2022-02-17T21:50:50.543Z photo_2022-02-17_16-49.jpg (1MnKJqenU2DJlbxgUYTsK9gJ_vvTLUUM1)\n",
      "2022-02-17T21:52:15.423Z photo_2022-02-17_16-50.jpg (1R3GGWZhcdkvYT_LH4b9es4dVEG59-sLA)\n",
      "2022-02-17T21:53:48.994Z photo_2022-02-17_16-51-1.jpg (11-vKbc2RX5Xjy96lZLMF87SzbNFLg7f1)\n",
      "2022-02-17T21:52:19.931Z photo_2022-02-17_16-51.jpg (19pT_ZZk76EZMKR2K-EIS9uTIcEEp4-jf)\n",
      "2022-02-17T21:53:45.418Z photo_2022-02-17_16-52.jpg (1m7v-UoIcKx1zm6Rs7kZqMqBhPN713kOu)\n",
      "2022-02-17T21:55:14.728Z photo_2022-02-17_16-53.jpg (1YkxoOcsNg0rb4tMLh_7ORGF-CdRzs16p)\n",
      "2022-02-17T21:56:45.473Z photo_2022-02-17_16-54-1.jpg (1AmfPXtauZR3-2wxBxrvTOiaBGJmKX1QI)\n",
      "2022-02-17T21:55:18.665Z photo_2022-02-17_16-54.jpg (1VZp6C78VvFRsQfGYrYip5AishPMOH0_Z)\n",
      "2022-02-17T21:56:50.722Z photo_2022-02-17_16-55.jpg (1LDId3ezlHMndbe-2F5r2vlbPvnu78UUj)\n",
      "2022-02-17T21:58:14.901Z photo_2022-02-17_16-56.jpg (1xYWI_qXGlN4qdugDq8FSt3tPB5gIkVcE)\n",
      "2022-02-17T21:59:52.316Z photo_2022-02-17_16-57-1.jpg (1Ld7cTeoYZoUinqZlQnhUorhIPokLe6_E)\n",
      "2022-02-17T21:58:18.411Z photo_2022-02-17_16-57.jpg (1C_OYoeUWzYyS5OafrP3rDsP-FY4_nP0k)\n",
      "2022-02-17T21:59:48.309Z photo_2022-02-17_16-58.jpg (1yeVupc2Bl1P8aE3xN3dPwoecGZ1YW8lF)\n",
      "2022-02-17T22:01:28.899Z photo_2022-02-17_16-59.jpg (13xBLuaYs-a8Gi3qQmof0NpzLGncfXKC8)\n",
      "2022-02-17T22:02:46.518Z photo_2022-02-17_17-00-1.jpg (1NDZeUtLr9hOEnxDZDl16p-7vF4jdqH2A)\n",
      "2022-02-17T22:01:19.842Z photo_2022-02-17_17-00.jpg (1ufQaMqup_7UTcCR3a65bDIcnO9deH5i9)\n",
      "2022-02-17T22:02:50.513Z photo_2022-02-17_17-01.jpg (1Yi4tO4KJWGEKxwEaHNWTek20rJqICzfU)\n",
      "2022-02-17T22:04:18.031Z photo_2022-02-17_17-02.jpg (1eVfKxJJdN2S5jd5XfwCy1pG6Cs8hmFSH)\n",
      "2022-02-17T22:05:46.170Z photo_2022-02-17_17-03-1.jpg (1RMvoWAR-EDhrhLpVcj4TfFjb7mQM5Qly)\n",
      "2022-02-17T22:04:21.905Z photo_2022-02-17_17-03.jpg (1wNvB9COTPurhk27Gm0gr1DrXTfqbllBn)\n",
      "2022-02-17T22:05:50.160Z photo_2022-02-17_17-04.jpg (1DSFmE3s9Ka9kb2WGhwOavEukLZq4moDq)\n",
      "2022-02-17T22:07:34.022Z photo_2022-02-17_17-05.jpg (1OJuYG7o4f4BUpY6F0vmJlQOoaGbMveLg)\n",
      "2022-02-17T22:08:52.557Z photo_2022-02-17_17-06-1.jpg (1s-KExOgBkjxmisRoVYpKCkcUkbhD2na8)\n",
      "2022-02-17T22:07:30.154Z photo_2022-02-17_17-06.jpg (1qq8EDQOhe4meFhgq0sZqfult9teATZz7)\n",
      "2022-02-17T22:08:48.607Z photo_2022-02-17_17-07.jpg (1-F_i6AapfcNPFT-E1Edw5I-YDjTgHwwf)\n",
      "2022-02-17T22:10:20.782Z photo_2022-02-17_17-08.jpg (1ZqFhaS-D3n4PI1Hi8ZJyiwSkaqi5IiNk)\n",
      "2022-02-17T22:11:51.076Z photo_2022-02-17_17-09-1.jpg (1Kh6-j74p01GRyTWVjXuxmGWuKRjqtHj7)\n",
      "2022-02-17T22:10:16.466Z photo_2022-02-17_17-09.jpg (1ab6kgdpOViOts7Ut8YYNRQruTK4Va4Ie)\n",
      "2022-02-17T22:11:47.335Z photo_2022-02-17_17-10.jpg (1q4ret2KFXaNiYOtwn2lMjP9zQLhIFvCI)\n",
      "2022-02-17T22:13:18.253Z photo_2022-02-17_17-11.jpg (1fb_MwVQAG40_nb4KPcFJlFSA95icL3u_)\n",
      "2022-02-17T22:14:52.474Z photo_2022-02-17_17-12-1.jpg (1T7tN8DriRtYiCG3SOpNlcOvTXbVmdJNa)\n",
      "\n"
     ]
    },
    {
     "ename": "KeyboardInterrupt",
     "evalue": "",
     "output_type": "error",
     "traceback": [
      "\u001b[0;31m---------------------------------------------------------------------------\u001b[0m",
      "\u001b[0;31mKeyboardInterrupt\u001b[0m                         Traceback (most recent call last)",
      "\u001b[0;32m<ipython-input-92-3f0fc38b77f8>\u001b[0m in \u001b[0;36m<module>\u001b[0;34m\u001b[0m\n\u001b[1;32m     25\u001b[0m         \u001b[0mdone\u001b[0m \u001b[0;34m=\u001b[0m \u001b[0;32mFalse\u001b[0m\u001b[0;34m\u001b[0m\u001b[0;34m\u001b[0m\u001b[0m\n\u001b[1;32m     26\u001b[0m         \u001b[0;32mwhile\u001b[0m \u001b[0mdone\u001b[0m \u001b[0;32mis\u001b[0m \u001b[0;32mFalse\u001b[0m\u001b[0;34m:\u001b[0m\u001b[0;34m\u001b[0m\u001b[0;34m\u001b[0m\u001b[0m\n\u001b[0;32m---> 27\u001b[0;31m             \u001b[0mstatus\u001b[0m\u001b[0;34m,\u001b[0m \u001b[0mdone\u001b[0m \u001b[0;34m=\u001b[0m \u001b[0mdownloader\u001b[0m\u001b[0;34m.\u001b[0m\u001b[0mnext_chunk\u001b[0m\u001b[0;34m(\u001b[0m\u001b[0;34m)\u001b[0m\u001b[0;34m\u001b[0m\u001b[0;34m\u001b[0m\u001b[0m\n\u001b[0m\u001b[1;32m     28\u001b[0m         \u001b[0mf\u001b[0m \u001b[0;34m=\u001b[0m \u001b[0mopen\u001b[0m\u001b[0;34m(\u001b[0m\u001b[0mos\u001b[0m\u001b[0;34m.\u001b[0m\u001b[0mpath\u001b[0m\u001b[0;34m.\u001b[0m\u001b[0mjoin\u001b[0m\u001b[0;34m(\u001b[0m\u001b[0mbase_dir\u001b[0m\u001b[0;34m,\u001b[0m \u001b[0mitem\u001b[0m\u001b[0;34m[\u001b[0m\u001b[0;34m'name'\u001b[0m\u001b[0;34m]\u001b[0m\u001b[0;34m)\u001b[0m\u001b[0;34m,\u001b[0m\u001b[0;34m'wb'\u001b[0m\u001b[0;34m)\u001b[0m\u001b[0;34m\u001b[0m\u001b[0;34m\u001b[0m\u001b[0m\n\u001b[1;32m     29\u001b[0m         \u001b[0mf\u001b[0m\u001b[0;34m.\u001b[0m\u001b[0mwrite\u001b[0m\u001b[0;34m(\u001b[0m\u001b[0mfh\u001b[0m\u001b[0;34m.\u001b[0m\u001b[0mgetbuffer\u001b[0m\u001b[0;34m(\u001b[0m\u001b[0;34m)\u001b[0m\u001b[0;34m)\u001b[0m\u001b[0;34m\u001b[0m\u001b[0;34m\u001b[0m\u001b[0m\n",
      "\u001b[0;32m~/.conda/envs/py37/lib/python3.7/site-packages/googleapiclient/_helpers.py\u001b[0m in \u001b[0;36mpositional_wrapper\u001b[0;34m(*args, **kwargs)\u001b[0m\n\u001b[1;32m    129\u001b[0m                 \u001b[0;32melif\u001b[0m \u001b[0mpositional_parameters_enforcement\u001b[0m \u001b[0;34m==\u001b[0m \u001b[0mPOSITIONAL_WARNING\u001b[0m\u001b[0;34m:\u001b[0m\u001b[0;34m\u001b[0m\u001b[0;34m\u001b[0m\u001b[0m\n\u001b[1;32m    130\u001b[0m                     \u001b[0mlogger\u001b[0m\u001b[0;34m.\u001b[0m\u001b[0mwarning\u001b[0m\u001b[0;34m(\u001b[0m\u001b[0mmessage\u001b[0m\u001b[0;34m)\u001b[0m\u001b[0;34m\u001b[0m\u001b[0;34m\u001b[0m\u001b[0m\n\u001b[0;32m--> 131\u001b[0;31m             \u001b[0;32mreturn\u001b[0m \u001b[0mwrapped\u001b[0m\u001b[0;34m(\u001b[0m\u001b[0;34m*\u001b[0m\u001b[0margs\u001b[0m\u001b[0;34m,\u001b[0m \u001b[0;34m**\u001b[0m\u001b[0mkwargs\u001b[0m\u001b[0;34m)\u001b[0m\u001b[0;34m\u001b[0m\u001b[0;34m\u001b[0m\u001b[0m\n\u001b[0m\u001b[1;32m    132\u001b[0m \u001b[0;34m\u001b[0m\u001b[0m\n\u001b[1;32m    133\u001b[0m         \u001b[0;32mreturn\u001b[0m \u001b[0mpositional_wrapper\u001b[0m\u001b[0;34m\u001b[0m\u001b[0;34m\u001b[0m\u001b[0m\n",
      "\u001b[0;32m~/.conda/envs/py37/lib/python3.7/site-packages/googleapiclient/http.py\u001b[0m in \u001b[0;36mnext_chunk\u001b[0;34m(self, num_retries)\u001b[0m\n\u001b[1;32m    746\u001b[0m             \u001b[0mself\u001b[0m\u001b[0;34m.\u001b[0m\u001b[0m_uri\u001b[0m\u001b[0;34m,\u001b[0m\u001b[0;34m\u001b[0m\u001b[0;34m\u001b[0m\u001b[0m\n\u001b[1;32m    747\u001b[0m             \u001b[0;34m\"GET\"\u001b[0m\u001b[0;34m,\u001b[0m\u001b[0;34m\u001b[0m\u001b[0;34m\u001b[0m\u001b[0m\n\u001b[0;32m--> 748\u001b[0;31m             \u001b[0mheaders\u001b[0m\u001b[0;34m=\u001b[0m\u001b[0mheaders\u001b[0m\u001b[0;34m,\u001b[0m\u001b[0;34m\u001b[0m\u001b[0;34m\u001b[0m\u001b[0m\n\u001b[0m\u001b[1;32m    749\u001b[0m         )\n\u001b[1;32m    750\u001b[0m \u001b[0;34m\u001b[0m\u001b[0m\n",
      "\u001b[0;32m~/.conda/envs/py37/lib/python3.7/site-packages/googleapiclient/http.py\u001b[0m in \u001b[0;36m_retry_request\u001b[0;34m(http, num_retries, req_type, sleep, rand, uri, method, *args, **kwargs)\u001b[0m\n\u001b[1;32m    188\u001b[0m         \u001b[0;32mtry\u001b[0m\u001b[0;34m:\u001b[0m\u001b[0;34m\u001b[0m\u001b[0;34m\u001b[0m\u001b[0m\n\u001b[1;32m    189\u001b[0m             \u001b[0mexception\u001b[0m \u001b[0;34m=\u001b[0m \u001b[0;32mNone\u001b[0m\u001b[0;34m\u001b[0m\u001b[0;34m\u001b[0m\u001b[0m\n\u001b[0;32m--> 190\u001b[0;31m             \u001b[0mresp\u001b[0m\u001b[0;34m,\u001b[0m \u001b[0mcontent\u001b[0m \u001b[0;34m=\u001b[0m \u001b[0mhttp\u001b[0m\u001b[0;34m.\u001b[0m\u001b[0mrequest\u001b[0m\u001b[0;34m(\u001b[0m\u001b[0muri\u001b[0m\u001b[0;34m,\u001b[0m \u001b[0mmethod\u001b[0m\u001b[0;34m,\u001b[0m \u001b[0;34m*\u001b[0m\u001b[0margs\u001b[0m\u001b[0;34m,\u001b[0m \u001b[0;34m**\u001b[0m\u001b[0mkwargs\u001b[0m\u001b[0;34m)\u001b[0m\u001b[0;34m\u001b[0m\u001b[0;34m\u001b[0m\u001b[0m\n\u001b[0m\u001b[1;32m    191\u001b[0m         \u001b[0;31m# Retry on SSL errors and socket timeout errors.\u001b[0m\u001b[0;34m\u001b[0m\u001b[0;34m\u001b[0m\u001b[0;34m\u001b[0m\u001b[0m\n\u001b[1;32m    192\u001b[0m         \u001b[0;32mexcept\u001b[0m \u001b[0m_ssl_SSLError\u001b[0m \u001b[0;32mas\u001b[0m \u001b[0mssl_error\u001b[0m\u001b[0;34m:\u001b[0m\u001b[0;34m\u001b[0m\u001b[0;34m\u001b[0m\u001b[0m\n",
      "\u001b[0;32m~/.conda/envs/py37/lib/python3.7/site-packages/google_auth_httplib2.py\u001b[0m in \u001b[0;36mrequest\u001b[0;34m(self, uri, method, body, headers, redirections, connection_type, **kwargs)\u001b[0m\n\u001b[1;32m    223\u001b[0m             \u001b[0mredirections\u001b[0m\u001b[0;34m=\u001b[0m\u001b[0mredirections\u001b[0m\u001b[0;34m,\u001b[0m\u001b[0;34m\u001b[0m\u001b[0;34m\u001b[0m\u001b[0m\n\u001b[1;32m    224\u001b[0m             \u001b[0mconnection_type\u001b[0m\u001b[0;34m=\u001b[0m\u001b[0mconnection_type\u001b[0m\u001b[0;34m,\u001b[0m\u001b[0;34m\u001b[0m\u001b[0;34m\u001b[0m\u001b[0m\n\u001b[0;32m--> 225\u001b[0;31m             \u001b[0;34m**\u001b[0m\u001b[0mkwargs\u001b[0m\u001b[0;34m\u001b[0m\u001b[0;34m\u001b[0m\u001b[0m\n\u001b[0m\u001b[1;32m    226\u001b[0m         )\n\u001b[1;32m    227\u001b[0m \u001b[0;34m\u001b[0m\u001b[0m\n",
      "\u001b[0;32m~/.conda/envs/py37/lib/python3.7/site-packages/httplib2/__init__.py\u001b[0m in \u001b[0;36mrequest\u001b[0;34m(self, uri, method, body, headers, redirections, connection_type)\u001b[0m\n\u001b[1;32m   1707\u001b[0m                 \u001b[0;32melse\u001b[0m\u001b[0;34m:\u001b[0m\u001b[0;34m\u001b[0m\u001b[0;34m\u001b[0m\u001b[0m\n\u001b[1;32m   1708\u001b[0m                     (response, content) = self._request(\n\u001b[0;32m-> 1709\u001b[0;31m                         \u001b[0mconn\u001b[0m\u001b[0;34m,\u001b[0m \u001b[0mauthority\u001b[0m\u001b[0;34m,\u001b[0m \u001b[0muri\u001b[0m\u001b[0;34m,\u001b[0m \u001b[0mrequest_uri\u001b[0m\u001b[0;34m,\u001b[0m \u001b[0mmethod\u001b[0m\u001b[0;34m,\u001b[0m \u001b[0mbody\u001b[0m\u001b[0;34m,\u001b[0m \u001b[0mheaders\u001b[0m\u001b[0;34m,\u001b[0m \u001b[0mredirections\u001b[0m\u001b[0;34m,\u001b[0m \u001b[0mcachekey\u001b[0m\u001b[0;34m,\u001b[0m\u001b[0;34m\u001b[0m\u001b[0;34m\u001b[0m\u001b[0m\n\u001b[0m\u001b[1;32m   1710\u001b[0m                     )\n\u001b[1;32m   1711\u001b[0m         \u001b[0;32mexcept\u001b[0m \u001b[0mException\u001b[0m \u001b[0;32mas\u001b[0m \u001b[0me\u001b[0m\u001b[0;34m:\u001b[0m\u001b[0;34m\u001b[0m\u001b[0;34m\u001b[0m\u001b[0m\n",
      "\u001b[0;32m~/.conda/envs/py37/lib/python3.7/site-packages/httplib2/__init__.py\u001b[0m in \u001b[0;36m_request\u001b[0;34m(self, conn, host, absolute_uri, request_uri, method, body, headers, redirections, cachekey)\u001b[0m\n\u001b[1;32m   1422\u001b[0m             \u001b[0mauth\u001b[0m\u001b[0;34m.\u001b[0m\u001b[0mrequest\u001b[0m\u001b[0;34m(\u001b[0m\u001b[0mmethod\u001b[0m\u001b[0;34m,\u001b[0m \u001b[0mrequest_uri\u001b[0m\u001b[0;34m,\u001b[0m \u001b[0mheaders\u001b[0m\u001b[0;34m,\u001b[0m \u001b[0mbody\u001b[0m\u001b[0;34m)\u001b[0m\u001b[0;34m\u001b[0m\u001b[0;34m\u001b[0m\u001b[0m\n\u001b[1;32m   1423\u001b[0m \u001b[0;34m\u001b[0m\u001b[0m\n\u001b[0;32m-> 1424\u001b[0;31m         \u001b[0;34m(\u001b[0m\u001b[0mresponse\u001b[0m\u001b[0;34m,\u001b[0m \u001b[0mcontent\u001b[0m\u001b[0;34m)\u001b[0m \u001b[0;34m=\u001b[0m \u001b[0mself\u001b[0m\u001b[0;34m.\u001b[0m\u001b[0m_conn_request\u001b[0m\u001b[0;34m(\u001b[0m\u001b[0mconn\u001b[0m\u001b[0;34m,\u001b[0m \u001b[0mrequest_uri\u001b[0m\u001b[0;34m,\u001b[0m \u001b[0mmethod\u001b[0m\u001b[0;34m,\u001b[0m \u001b[0mbody\u001b[0m\u001b[0;34m,\u001b[0m \u001b[0mheaders\u001b[0m\u001b[0;34m)\u001b[0m\u001b[0;34m\u001b[0m\u001b[0;34m\u001b[0m\u001b[0m\n\u001b[0m\u001b[1;32m   1425\u001b[0m \u001b[0;34m\u001b[0m\u001b[0m\n\u001b[1;32m   1426\u001b[0m         \u001b[0;32mif\u001b[0m \u001b[0mauth\u001b[0m\u001b[0;34m:\u001b[0m\u001b[0;34m\u001b[0m\u001b[0;34m\u001b[0m\u001b[0m\n",
      "\u001b[0;32m~/.conda/envs/py37/lib/python3.7/site-packages/httplib2/__init__.py\u001b[0m in \u001b[0;36m_conn_request\u001b[0;34m(self, conn, request_uri, method, body, headers)\u001b[0m\n\u001b[1;32m   1374\u001b[0m                 \u001b[0;32mpass\u001b[0m\u001b[0;34m\u001b[0m\u001b[0;34m\u001b[0m\u001b[0m\n\u001b[1;32m   1375\u001b[0m             \u001b[0;32mtry\u001b[0m\u001b[0;34m:\u001b[0m\u001b[0;34m\u001b[0m\u001b[0;34m\u001b[0m\u001b[0m\n\u001b[0;32m-> 1376\u001b[0;31m                 \u001b[0mresponse\u001b[0m \u001b[0;34m=\u001b[0m \u001b[0mconn\u001b[0m\u001b[0;34m.\u001b[0m\u001b[0mgetresponse\u001b[0m\u001b[0;34m(\u001b[0m\u001b[0;34m)\u001b[0m\u001b[0;34m\u001b[0m\u001b[0;34m\u001b[0m\u001b[0m\n\u001b[0m\u001b[1;32m   1377\u001b[0m             \u001b[0;32mexcept\u001b[0m \u001b[0;34m(\u001b[0m\u001b[0mhttp\u001b[0m\u001b[0;34m.\u001b[0m\u001b[0mclient\u001b[0m\u001b[0;34m.\u001b[0m\u001b[0mBadStatusLine\u001b[0m\u001b[0;34m,\u001b[0m \u001b[0mhttp\u001b[0m\u001b[0;34m.\u001b[0m\u001b[0mclient\u001b[0m\u001b[0;34m.\u001b[0m\u001b[0mResponseNotReady\u001b[0m\u001b[0;34m)\u001b[0m\u001b[0;34m:\u001b[0m\u001b[0;34m\u001b[0m\u001b[0;34m\u001b[0m\u001b[0m\n\u001b[1;32m   1378\u001b[0m                 \u001b[0;31m# If we get a BadStatusLine on the first try then that means\u001b[0m\u001b[0;34m\u001b[0m\u001b[0;34m\u001b[0m\u001b[0;34m\u001b[0m\u001b[0m\n",
      "\u001b[0;32m~/.conda/envs/py37/lib/python3.7/http/client.py\u001b[0m in \u001b[0;36mgetresponse\u001b[0;34m(self)\u001b[0m\n\u001b[1;32m   1342\u001b[0m         \u001b[0;32mtry\u001b[0m\u001b[0;34m:\u001b[0m\u001b[0;34m\u001b[0m\u001b[0;34m\u001b[0m\u001b[0m\n\u001b[1;32m   1343\u001b[0m             \u001b[0;32mtry\u001b[0m\u001b[0;34m:\u001b[0m\u001b[0;34m\u001b[0m\u001b[0;34m\u001b[0m\u001b[0m\n\u001b[0;32m-> 1344\u001b[0;31m                 \u001b[0mresponse\u001b[0m\u001b[0;34m.\u001b[0m\u001b[0mbegin\u001b[0m\u001b[0;34m(\u001b[0m\u001b[0;34m)\u001b[0m\u001b[0;34m\u001b[0m\u001b[0;34m\u001b[0m\u001b[0m\n\u001b[0m\u001b[1;32m   1345\u001b[0m             \u001b[0;32mexcept\u001b[0m \u001b[0mConnectionError\u001b[0m\u001b[0;34m:\u001b[0m\u001b[0;34m\u001b[0m\u001b[0;34m\u001b[0m\u001b[0m\n\u001b[1;32m   1346\u001b[0m                 \u001b[0mself\u001b[0m\u001b[0;34m.\u001b[0m\u001b[0mclose\u001b[0m\u001b[0;34m(\u001b[0m\u001b[0;34m)\u001b[0m\u001b[0;34m\u001b[0m\u001b[0;34m\u001b[0m\u001b[0m\n",
      "\u001b[0;32m~/.conda/envs/py37/lib/python3.7/http/client.py\u001b[0m in \u001b[0;36mbegin\u001b[0;34m(self)\u001b[0m\n\u001b[1;32m    304\u001b[0m         \u001b[0;31m# read until we get a non-100 response\u001b[0m\u001b[0;34m\u001b[0m\u001b[0;34m\u001b[0m\u001b[0;34m\u001b[0m\u001b[0m\n\u001b[1;32m    305\u001b[0m         \u001b[0;32mwhile\u001b[0m \u001b[0;32mTrue\u001b[0m\u001b[0;34m:\u001b[0m\u001b[0;34m\u001b[0m\u001b[0;34m\u001b[0m\u001b[0m\n\u001b[0;32m--> 306\u001b[0;31m             \u001b[0mversion\u001b[0m\u001b[0;34m,\u001b[0m \u001b[0mstatus\u001b[0m\u001b[0;34m,\u001b[0m \u001b[0mreason\u001b[0m \u001b[0;34m=\u001b[0m \u001b[0mself\u001b[0m\u001b[0;34m.\u001b[0m\u001b[0m_read_status\u001b[0m\u001b[0;34m(\u001b[0m\u001b[0;34m)\u001b[0m\u001b[0;34m\u001b[0m\u001b[0;34m\u001b[0m\u001b[0m\n\u001b[0m\u001b[1;32m    307\u001b[0m             \u001b[0;32mif\u001b[0m \u001b[0mstatus\u001b[0m \u001b[0;34m!=\u001b[0m \u001b[0mCONTINUE\u001b[0m\u001b[0;34m:\u001b[0m\u001b[0;34m\u001b[0m\u001b[0;34m\u001b[0m\u001b[0m\n\u001b[1;32m    308\u001b[0m                 \u001b[0;32mbreak\u001b[0m\u001b[0;34m\u001b[0m\u001b[0;34m\u001b[0m\u001b[0m\n",
      "\u001b[0;32m~/.conda/envs/py37/lib/python3.7/http/client.py\u001b[0m in \u001b[0;36m_read_status\u001b[0;34m(self)\u001b[0m\n\u001b[1;32m    265\u001b[0m \u001b[0;34m\u001b[0m\u001b[0m\n\u001b[1;32m    266\u001b[0m     \u001b[0;32mdef\u001b[0m \u001b[0m_read_status\u001b[0m\u001b[0;34m(\u001b[0m\u001b[0mself\u001b[0m\u001b[0;34m)\u001b[0m\u001b[0;34m:\u001b[0m\u001b[0;34m\u001b[0m\u001b[0;34m\u001b[0m\u001b[0m\n\u001b[0;32m--> 267\u001b[0;31m         \u001b[0mline\u001b[0m \u001b[0;34m=\u001b[0m \u001b[0mstr\u001b[0m\u001b[0;34m(\u001b[0m\u001b[0mself\u001b[0m\u001b[0;34m.\u001b[0m\u001b[0mfp\u001b[0m\u001b[0;34m.\u001b[0m\u001b[0mreadline\u001b[0m\u001b[0;34m(\u001b[0m\u001b[0m_MAXLINE\u001b[0m \u001b[0;34m+\u001b[0m \u001b[0;36m1\u001b[0m\u001b[0;34m)\u001b[0m\u001b[0;34m,\u001b[0m \u001b[0;34m\"iso-8859-1\"\u001b[0m\u001b[0;34m)\u001b[0m\u001b[0;34m\u001b[0m\u001b[0;34m\u001b[0m\u001b[0m\n\u001b[0m\u001b[1;32m    268\u001b[0m         \u001b[0;32mif\u001b[0m \u001b[0mlen\u001b[0m\u001b[0;34m(\u001b[0m\u001b[0mline\u001b[0m\u001b[0;34m)\u001b[0m \u001b[0;34m>\u001b[0m \u001b[0m_MAXLINE\u001b[0m\u001b[0;34m:\u001b[0m\u001b[0;34m\u001b[0m\u001b[0;34m\u001b[0m\u001b[0m\n\u001b[1;32m    269\u001b[0m             \u001b[0;32mraise\u001b[0m \u001b[0mLineTooLong\u001b[0m\u001b[0;34m(\u001b[0m\u001b[0;34m\"status line\"\u001b[0m\u001b[0;34m)\u001b[0m\u001b[0;34m\u001b[0m\u001b[0;34m\u001b[0m\u001b[0m\n",
      "\u001b[0;32m~/.conda/envs/py37/lib/python3.7/socket.py\u001b[0m in \u001b[0;36mreadinto\u001b[0;34m(self, b)\u001b[0m\n\u001b[1;32m    587\u001b[0m         \u001b[0;32mwhile\u001b[0m \u001b[0;32mTrue\u001b[0m\u001b[0;34m:\u001b[0m\u001b[0;34m\u001b[0m\u001b[0;34m\u001b[0m\u001b[0m\n\u001b[1;32m    588\u001b[0m             \u001b[0;32mtry\u001b[0m\u001b[0;34m:\u001b[0m\u001b[0;34m\u001b[0m\u001b[0;34m\u001b[0m\u001b[0m\n\u001b[0;32m--> 589\u001b[0;31m                 \u001b[0;32mreturn\u001b[0m \u001b[0mself\u001b[0m\u001b[0;34m.\u001b[0m\u001b[0m_sock\u001b[0m\u001b[0;34m.\u001b[0m\u001b[0mrecv_into\u001b[0m\u001b[0;34m(\u001b[0m\u001b[0mb\u001b[0m\u001b[0;34m)\u001b[0m\u001b[0;34m\u001b[0m\u001b[0;34m\u001b[0m\u001b[0m\n\u001b[0m\u001b[1;32m    590\u001b[0m             \u001b[0;32mexcept\u001b[0m \u001b[0mtimeout\u001b[0m\u001b[0;34m:\u001b[0m\u001b[0;34m\u001b[0m\u001b[0;34m\u001b[0m\u001b[0m\n\u001b[1;32m    591\u001b[0m                 \u001b[0mself\u001b[0m\u001b[0;34m.\u001b[0m\u001b[0m_timeout_occurred\u001b[0m \u001b[0;34m=\u001b[0m \u001b[0;32mTrue\u001b[0m\u001b[0;34m\u001b[0m\u001b[0;34m\u001b[0m\u001b[0m\n",
      "\u001b[0;32m~/.conda/envs/py37/lib/python3.7/ssl.py\u001b[0m in \u001b[0;36mrecv_into\u001b[0;34m(self, buffer, nbytes, flags)\u001b[0m\n\u001b[1;32m   1069\u001b[0m                   \u001b[0;34m\"non-zero flags not allowed in calls to recv_into() on %s\"\u001b[0m \u001b[0;34m%\u001b[0m\u001b[0;34m\u001b[0m\u001b[0;34m\u001b[0m\u001b[0m\n\u001b[1;32m   1070\u001b[0m                   self.__class__)\n\u001b[0;32m-> 1071\u001b[0;31m             \u001b[0;32mreturn\u001b[0m \u001b[0mself\u001b[0m\u001b[0;34m.\u001b[0m\u001b[0mread\u001b[0m\u001b[0;34m(\u001b[0m\u001b[0mnbytes\u001b[0m\u001b[0;34m,\u001b[0m \u001b[0mbuffer\u001b[0m\u001b[0;34m)\u001b[0m\u001b[0;34m\u001b[0m\u001b[0;34m\u001b[0m\u001b[0m\n\u001b[0m\u001b[1;32m   1072\u001b[0m         \u001b[0;32melse\u001b[0m\u001b[0;34m:\u001b[0m\u001b[0;34m\u001b[0m\u001b[0;34m\u001b[0m\u001b[0m\n\u001b[1;32m   1073\u001b[0m             \u001b[0;32mreturn\u001b[0m \u001b[0msuper\u001b[0m\u001b[0;34m(\u001b[0m\u001b[0;34m)\u001b[0m\u001b[0;34m.\u001b[0m\u001b[0mrecv_into\u001b[0m\u001b[0;34m(\u001b[0m\u001b[0mbuffer\u001b[0m\u001b[0;34m,\u001b[0m \u001b[0mnbytes\u001b[0m\u001b[0;34m,\u001b[0m \u001b[0mflags\u001b[0m\u001b[0;34m)\u001b[0m\u001b[0;34m\u001b[0m\u001b[0;34m\u001b[0m\u001b[0m\n",
      "\u001b[0;32m~/.conda/envs/py37/lib/python3.7/ssl.py\u001b[0m in \u001b[0;36mread\u001b[0;34m(self, len, buffer)\u001b[0m\n\u001b[1;32m    927\u001b[0m         \u001b[0;32mtry\u001b[0m\u001b[0;34m:\u001b[0m\u001b[0;34m\u001b[0m\u001b[0;34m\u001b[0m\u001b[0m\n\u001b[1;32m    928\u001b[0m             \u001b[0;32mif\u001b[0m \u001b[0mbuffer\u001b[0m \u001b[0;32mis\u001b[0m \u001b[0;32mnot\u001b[0m \u001b[0;32mNone\u001b[0m\u001b[0;34m:\u001b[0m\u001b[0;34m\u001b[0m\u001b[0;34m\u001b[0m\u001b[0m\n\u001b[0;32m--> 929\u001b[0;31m                 \u001b[0;32mreturn\u001b[0m \u001b[0mself\u001b[0m\u001b[0;34m.\u001b[0m\u001b[0m_sslobj\u001b[0m\u001b[0;34m.\u001b[0m\u001b[0mread\u001b[0m\u001b[0;34m(\u001b[0m\u001b[0mlen\u001b[0m\u001b[0;34m,\u001b[0m \u001b[0mbuffer\u001b[0m\u001b[0;34m)\u001b[0m\u001b[0;34m\u001b[0m\u001b[0;34m\u001b[0m\u001b[0m\n\u001b[0m\u001b[1;32m    930\u001b[0m             \u001b[0;32melse\u001b[0m\u001b[0;34m:\u001b[0m\u001b[0;34m\u001b[0m\u001b[0;34m\u001b[0m\u001b[0m\n\u001b[1;32m    931\u001b[0m                 \u001b[0;32mreturn\u001b[0m \u001b[0mself\u001b[0m\u001b[0;34m.\u001b[0m\u001b[0m_sslobj\u001b[0m\u001b[0;34m.\u001b[0m\u001b[0mread\u001b[0m\u001b[0;34m(\u001b[0m\u001b[0mlen\u001b[0m\u001b[0;34m)\u001b[0m\u001b[0;34m\u001b[0m\u001b[0;34m\u001b[0m\u001b[0m\n",
      "\u001b[0;31mKeyboardInterrupt\u001b[0m: "
     ]
    }
   ],
   "source": [
    "service = build('drive', 'v3', credentials=creds)\n",
    "\n",
    "page_token = None\n",
    "\n",
    "while True:\n",
    "    # Call the Drive v3 API\n",
    "    results = service.files().list(\n",
    "        pageSize=100, \n",
    "        fields=\"nextPageToken, files(*)\",\n",
    "        q=f\"'1vRpM2GnlTqRbpsqnOGJBp18QLKdyk_Gh' in parents  and createdTime > '{search_dt.isoformat()}' \" +\n",
    "            \" and mimeType='image/jpeg'\",\n",
    "        orderBy=\"name\",\n",
    "        pageToken=page_token).execute()\n",
    "    items = results.get('files', [])\n",
    "    print('page_token',page_token)\n",
    "    if not items:\n",
    "        print('No files found.')\n",
    "    print('Files:')\n",
    "    for item in tqdm.notebook.tqdm(items):\n",
    "        print(u'{2} {0} ({1})'.format(item['name'], item['id'], item['createdTime']))\n",
    "        file_id = item['id']\n",
    "        request = service.files().get_media(fileId=file_id)\n",
    "        fh = io.BytesIO()\n",
    "        downloader = MediaIoBaseDownload(fh, request)\n",
    "        done = False\n",
    "        while done is False:\n",
    "            status, done = downloader.next_chunk()\n",
    "        f = open(os.path.join(base_dir, item['name']),'wb')\n",
    "        f.write(fh.getbuffer())\n",
    "        f.close()\n",
    "    page_token = results.get('nextPageToken', None)\n",
    "    if page_token is None:\n",
    "        break"
   ]
  },
  {
   "cell_type": "code",
   "execution_count": 88,
   "metadata": {
    "ExecuteTime": {
     "end_time": "2022-02-18T19:47:52.925469Z",
     "start_time": "2022-02-18T19:47:52.285033Z"
    }
   },
   "outputs": [
    {
     "name": "stdout",
     "output_type": "stream",
     "text": [
      "Download 100%.\n"
     ]
    }
   ],
   "source": [
    "file_id = item['id']\n",
    "request = service.files().get_media(fileId=file_id)\n",
    "fh = io.BytesIO()\n",
    "downloader = MediaIoBaseDownload(fh, request)\n",
    "done = False\n",
    "while done is False:\n",
    "    status, done = downloader.next_chunk()\n",
    "    print (\"Download %d%%.\" % int(status.progress() * 100))"
   ]
  },
  {
   "cell_type": "code",
   "execution_count": 89,
   "metadata": {
    "ExecuteTime": {
     "end_time": "2022-02-18T19:48:00.387098Z",
     "start_time": "2022-02-18T19:48:00.380783Z"
    }
   },
   "outputs": [
    {
     "data": {
      "text/plain": [
       "1.0"
      ]
     },
     "execution_count": 89,
     "metadata": {},
     "output_type": "execute_result"
    }
   ],
   "source": [
    "status.progress()"
   ]
  },
  {
   "cell_type": "code",
   "execution_count": 9,
   "metadata": {
    "ExecuteTime": {
     "end_time": "2022-02-18T19:07:36.957936Z",
     "start_time": "2022-02-18T19:07:36.942926Z"
    }
   },
   "outputs": [
    {
     "data": {
      "text/plain": [
       "<_io.BytesIO at 0x7fc5ce485350>"
      ]
     },
     "execution_count": 9,
     "metadata": {},
     "output_type": "execute_result"
    }
   ],
   "source": [
    "fh"
   ]
  },
  {
   "cell_type": "code",
   "execution_count": 11,
   "metadata": {
    "ExecuteTime": {
     "end_time": "2022-02-18T19:08:28.093509Z",
     "start_time": "2022-02-18T19:08:28.087539Z"
    }
   },
   "outputs": [],
   "source": [
    "f = open(item['name'],'wb')"
   ]
  },
  {
   "cell_type": "code",
   "execution_count": 14,
   "metadata": {
    "ExecuteTime": {
     "end_time": "2022-02-18T19:10:12.770775Z",
     "start_time": "2022-02-18T19:10:12.766287Z"
    }
   },
   "outputs": [],
   "source": [
    "f.close()"
   ]
  },
  {
   "cell_type": "code",
   "execution_count": 8,
   "metadata": {
    "ExecuteTime": {
     "end_time": "2022-02-20T22:49:20.077891Z",
     "start_time": "2022-02-20T22:49:20.063073Z"
    }
   },
   "outputs": [],
   "source": [
    "image = Image.open('../photo_2022-02-20_09-49-1.jpg')"
   ]
  },
  {
   "cell_type": "code",
   "execution_count": 9,
   "metadata": {
    "ExecuteTime": {
     "end_time": "2022-02-20T22:49:23.693649Z",
     "start_time": "2022-02-20T22:49:23.689353Z"
    }
   },
   "outputs": [],
   "source": [
    "exif = image.info['exif']\n"
   ]
  },
  {
   "cell_type": "code",
   "execution_count": 12,
   "metadata": {
    "ExecuteTime": {
     "end_time": "2022-02-20T22:49:42.834777Z",
     "start_time": "2022-02-20T22:49:42.744707Z"
    }
   },
   "outputs": [],
   "source": [
    "\n",
    "# Your picture process here\n",
    "image = image.rotate(90)\n",
    "image.save('../test_rotated.jpg', 'JPEG', exif=exif)"
   ]
  },
  {
   "cell_type": "code",
   "execution_count": 122,
   "metadata": {
    "ExecuteTime": {
     "end_time": "2022-02-20T20:02:27.354204Z",
     "start_time": "2022-02-20T20:02:27.340697Z"
    }
   },
   "outputs": [
    {
     "ename": "NameError",
     "evalue": "name 'pyexiv2' is not defined",
     "output_type": "error",
     "traceback": [
      "\u001b[0;31m---------------------------------------------------------------------------\u001b[0m",
      "\u001b[0;31mNameError\u001b[0m                                 Traceback (most recent call last)",
      "\u001b[0;32m<ipython-input-122-86ff1c9dd5f2>\u001b[0m in \u001b[0;36m<module>\u001b[0;34m\u001b[0m\n\u001b[0;32m----> 1\u001b[0;31m \u001b[0mm1\u001b[0m \u001b[0;34m=\u001b[0m \u001b[0mpyexiv2\u001b[0m\u001b[0;34m.\u001b[0m\u001b[0mImageMetadata\u001b[0m\u001b[0;34m(\u001b[0m\u001b[0;34m'../photo_2022-02-20_09-49-1.jpg'\u001b[0m\u001b[0;34m)\u001b[0m\u001b[0;34m\u001b[0m\u001b[0;34m\u001b[0m\u001b[0m\n\u001b[0m\u001b[1;32m      2\u001b[0m \u001b[0mm1\u001b[0m\u001b[0;34m.\u001b[0m\u001b[0mread\u001b[0m\u001b[0;34m(\u001b[0m\u001b[0;34m)\u001b[0m\u001b[0;34m\u001b[0m\u001b[0;34m\u001b[0m\u001b[0m\n\u001b[1;32m      3\u001b[0m \u001b[0;31m# modify tags ...\u001b[0m\u001b[0;34m\u001b[0m\u001b[0;34m\u001b[0m\u001b[0;34m\u001b[0m\u001b[0m\n\u001b[1;32m      4\u001b[0m \u001b[0;31m# m1['Exif.Image.Key'] = pyexiv2.ExifTag('Exif.Image.Key', 'value')\u001b[0m\u001b[0;34m\u001b[0m\u001b[0;34m\u001b[0m\u001b[0;34m\u001b[0m\u001b[0m\n\u001b[1;32m      5\u001b[0m \u001b[0mm1\u001b[0m\u001b[0;34m.\u001b[0m\u001b[0mmodified\u001b[0m \u001b[0;34m=\u001b[0m \u001b[0;32mTrue\u001b[0m \u001b[0;31m# not sure what this is good for\u001b[0m\u001b[0;34m\u001b[0m\u001b[0;34m\u001b[0m\u001b[0m\n",
      "\u001b[0;31mNameError\u001b[0m: name 'pyexiv2' is not defined"
     ]
    }
   ],
   "source": [
    "m1 = pyexiv2.ImageMetadata('../photo_2022-02-20_09-49-1.jpg')\n",
    "m1.read()\n",
    "# modify tags ...\n",
    "# m1['Exif.Image.Key'] = pyexiv2.ExifTag('Exif.Image.Key', 'value')\n",
    "m1.modified = True # not sure what this is good for\n",
    "m2 = pyexiv2.metadata.ImageMetadata( '../photo_2.jpg' )\n",
    "m2.read() # yes, we need to read the old stuff before we can overwrite it\n",
    "m1.copy( m2 )\n",
    "m2.write()"
   ]
  },
  {
   "cell_type": "code",
   "execution_count": 13,
   "metadata": {
    "ExecuteTime": {
     "end_time": "2022-02-20T22:54:14.592356Z",
     "start_time": "2022-02-20T22:54:14.561789Z"
    }
   },
   "outputs": [],
   "source": [
    "from PIL import ImageDraw, ImageFont\n"
   ]
  },
  {
   "cell_type": "code",
   "execution_count": 121,
   "metadata": {
    "ExecuteTime": {
     "end_time": "2022-02-20T20:00:19.043597Z",
     "start_time": "2022-02-20T20:00:18.897998Z"
    }
   },
   "outputs": [],
   "source": [
    "title_font = ImageFont.truetype('cour.ttf', 30)\n",
    "img=Image.open('../photo_2022-02-20_09-49-1.jpg')\n",
    "title_text = img._getexif()[306]\n",
    "image_editable = ImageDraw.Draw(img)\n",
    "image_editable.rectangle((10, 15, 360, 46), fill =\"#444444\")\n",
    "image_editable.text((15,15), title_text, (255, 255, 255), font=title_font)\n",
    "img.save(f'../photo_2.jpg')"
   ]
  },
  {
   "cell_type": "code",
   "execution_count": 26,
   "metadata": {
    "ExecuteTime": {
     "end_time": "2022-02-20T22:56:45.368898Z",
     "start_time": "2022-02-20T22:56:45.332194Z"
    }
   },
   "outputs": [],
   "source": [
    "\n",
    "files = list(glob.glob('../2_horiz/orig//*.jpg'))"
   ]
  },
  {
   "cell_type": "code",
   "execution_count": 27,
   "metadata": {
    "ExecuteTime": {
     "end_time": "2022-02-20T22:56:45.971910Z",
     "start_time": "2022-02-20T22:56:45.965139Z"
    }
   },
   "outputs": [
    {
     "data": {
      "text/plain": [
       "9956"
      ]
     },
     "execution_count": 27,
     "metadata": {},
     "output_type": "execute_result"
    }
   ],
   "source": [
    "len(files)"
   ]
  },
  {
   "cell_type": "code",
   "execution_count": 28,
   "metadata": {
    "ExecuteTime": {
     "end_time": "2022-02-20T22:56:46.769306Z",
     "start_time": "2022-02-20T22:56:46.764120Z"
    }
   },
   "outputs": [],
   "source": [
    "def get_date(path):\n",
    "    img = Image.open(path)\n",
    "    if img._getexif() is None:\n",
    "        return ''\n",
    "    return img._getexif()[306]"
   ]
  },
  {
   "cell_type": "code",
   "execution_count": 29,
   "metadata": {
    "ExecuteTime": {
     "end_time": "2022-02-20T22:56:57.963355Z",
     "start_time": "2022-02-20T22:56:47.324826Z"
    }
   },
   "outputs": [],
   "source": [
    "created = set(map(get_date, files))"
   ]
  },
  {
   "cell_type": "code",
   "execution_count": 30,
   "metadata": {
    "ExecuteTime": {
     "end_time": "2022-02-20T22:56:59.076525Z",
     "start_time": "2022-02-20T22:56:59.070484Z"
    }
   },
   "outputs": [
    {
     "data": {
      "text/plain": [
       "9956"
      ]
     },
     "execution_count": 30,
     "metadata": {},
     "output_type": "execute_result"
    }
   ],
   "source": [
    "len(created)"
   ]
  },
  {
   "cell_type": "code",
   "execution_count": 32,
   "metadata": {
    "ExecuteTime": {
     "end_time": "2022-02-20T22:57:17.183954Z",
     "start_time": "2022-02-20T22:57:17.175217Z"
    }
   },
   "outputs": [
    {
     "data": {
      "text/plain": [
       "'2022:02:20 12:48:10'"
      ]
     },
     "execution_count": 32,
     "metadata": {},
     "output_type": "execute_result"
    }
   ],
   "source": [
    "d = get_date(files[0])\n",
    "d"
   ]
  },
  {
   "cell_type": "code",
   "execution_count": null,
   "metadata": {},
   "outputs": [],
   "source": []
  }
 ],
 "metadata": {
  "kernelspec": {
   "display_name": "py37",
   "language": "python",
   "name": "py37"
  },
  "language_info": {
   "codemirror_mode": {
    "name": "ipython",
    "version": 3
   },
   "file_extension": ".py",
   "mimetype": "text/x-python",
   "name": "python",
   "nbconvert_exporter": "python",
   "pygments_lexer": "ipython3",
   "version": "3.7.6"
  }
 },
 "nbformat": 4,
 "nbformat_minor": 4
}
